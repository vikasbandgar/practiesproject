{
 "cells": [
  {
   "cell_type": "code",
   "execution_count": 19,
   "id": "de1c53b2",
   "metadata": {},
   "outputs": [],
   "source": [
    "#Q.1)remainder division Answer is use \"%\" "
   ]
  },
  {
   "cell_type": "code",
   "execution_count": 10,
   "id": "e46bdd91",
   "metadata": {},
   "outputs": [],
   "source": [
    "x=6"
   ]
  },
  {
   "cell_type": "code",
   "execution_count": 11,
   "id": "6495a3a6",
   "metadata": {},
   "outputs": [],
   "source": [
    "y=3"
   ]
  },
  {
   "cell_type": "code",
   "execution_count": 18,
   "id": "b52862e1",
   "metadata": {},
   "outputs": [
    {
     "name": "stdout",
     "output_type": "stream",
     "text": [
      "0\n"
     ]
    }
   ],
   "source": [
    "print(x%y)"
   ]
  },
  {
   "cell_type": "code",
   "execution_count": 15,
   "id": "043b28a6",
   "metadata": {},
   "outputs": [],
   "source": [
    "a=7"
   ]
  },
  {
   "cell_type": "code",
   "execution_count": 16,
   "id": "12766700",
   "metadata": {},
   "outputs": [],
   "source": [
    "b=2"
   ]
  },
  {
   "cell_type": "code",
   "execution_count": 17,
   "id": "d28d17e2",
   "metadata": {},
   "outputs": [
    {
     "name": "stdout",
     "output_type": "stream",
     "text": [
      "1\n"
     ]
    }
   ],
   "source": [
    "print(a%b)"
   ]
  },
  {
   "cell_type": "code",
   "execution_count": 30,
   "id": "83bf4bf7",
   "metadata": {},
   "outputs": [],
   "source": [
    "#Q.2)python 2//3 is equal to Answer is 0  ,'//' Floor division (returns real value and ignores the decimal part)"
   ]
  },
  {
   "cell_type": "code",
   "execution_count": 21,
   "id": "a7b56494",
   "metadata": {},
   "outputs": [],
   "source": [
    "a=8"
   ]
  },
  {
   "cell_type": "code",
   "execution_count": 22,
   "id": "0835ee21",
   "metadata": {},
   "outputs": [],
   "source": [
    "b=4"
   ]
  },
  {
   "cell_type": "code",
   "execution_count": 23,
   "id": "b49d0f6b",
   "metadata": {},
   "outputs": [
    {
     "data": {
      "text/plain": [
       "2"
      ]
     },
     "execution_count": 23,
     "metadata": {},
     "output_type": "execute_result"
    }
   ],
   "source": [
    "a//b"
   ]
  },
  {
   "cell_type": "code",
   "execution_count": 27,
   "id": "fc314a92",
   "metadata": {},
   "outputs": [],
   "source": [
    "a=2"
   ]
  },
  {
   "cell_type": "code",
   "execution_count": 28,
   "id": "7bca585c",
   "metadata": {},
   "outputs": [],
   "source": [
    "b=3"
   ]
  },
  {
   "cell_type": "code",
   "execution_count": 29,
   "id": "2e24c679",
   "metadata": {},
   "outputs": [
    {
     "data": {
      "text/plain": [
       "0"
      ]
     },
     "execution_count": 29,
     "metadata": {},
     "output_type": "execute_result"
    }
   ],
   "source": [
    "a//b"
   ]
  },
  {
   "cell_type": "code",
   "execution_count": 34,
   "id": "2e290fc4",
   "metadata": {},
   "outputs": [],
   "source": [
    "#Q.3) In python ,6<<2 is equal to?= Answer is 24"
   ]
  },
  {
   "cell_type": "code",
   "execution_count": 32,
   "id": "fc200ee5",
   "metadata": {},
   "outputs": [
    {
     "data": {
      "text/plain": [
       "24"
      ]
     },
     "execution_count": 32,
     "metadata": {},
     "output_type": "execute_result"
    }
   ],
   "source": [
    "6<<2"
   ]
  },
  {
   "cell_type": "code",
   "execution_count": 35,
   "id": "478d70f6",
   "metadata": {},
   "outputs": [],
   "source": [
    "#Q.4) In python 6&2 output is=2"
   ]
  },
  {
   "cell_type": "code",
   "execution_count": 36,
   "id": "63092c2a",
   "metadata": {},
   "outputs": [
    {
     "data": {
      "text/plain": [
       "2"
      ]
     },
     "execution_count": 36,
     "metadata": {},
     "output_type": "execute_result"
    }
   ],
   "source": [
    "6&2"
   ]
  },
  {
   "cell_type": "code",
   "execution_count": 37,
   "id": "902585c7",
   "metadata": {},
   "outputs": [],
   "source": [
    "#Q.5)In python 6|2 output is ="
   ]
  },
  {
   "cell_type": "code",
   "execution_count": 38,
   "id": "c64eda5d",
   "metadata": {},
   "outputs": [
    {
     "data": {
      "text/plain": [
       "6"
      ]
     },
     "execution_count": 38,
     "metadata": {},
     "output_type": "execute_result"
    }
   ],
   "source": [
    "6|2"
   ]
  },
  {
   "cell_type": "code",
   "execution_count": 39,
   "id": "7706beed",
   "metadata": {},
   "outputs": [],
   "source": [
    "#Q.6)Finally  keyword denotes in python? Answer =C\n",
    "#The finally block will be executed no matter if the try block raise an error or not"
   ]
  },
  {
   "cell_type": "code",
   "execution_count": 41,
   "id": "93db4e2c",
   "metadata": {},
   "outputs": [],
   "source": [
    "#Q.7)What does raise keyword is used for in python Answer is =A\n",
    "#Answer=It is used to raise an exception "
   ]
  },
  {
   "cell_type": "code",
   "execution_count": 42,
   "id": "91f3dad3",
   "metadata": {},
   "outputs": [],
   "source": [
    "#Q.8)is common use case of yield keyword in python,Answer=C\n",
    "#in defining a generator"
   ]
  },
  {
   "cell_type": "code",
   "execution_count": 43,
   "id": "29b053e8",
   "metadata": {},
   "outputs": [],
   "source": [
    "#Q.9)Which of the following are the vaild varible names?\n",
    "#Answer:-A)_abc,B)1abc,c)abc2"
   ]
  },
  {
   "cell_type": "code",
   "execution_count": 44,
   "id": "25c91669",
   "metadata": {},
   "outputs": [],
   "source": [
    "#Q.10)which of the following are the keyword in python?\n",
    "#Answer:-A)yield B)Raise"
   ]
  },
  {
   "cell_type": "code",
   "execution_count": 47,
   "id": "c07a1e7d",
   "metadata": {},
   "outputs": [
    {
     "name": "stdout",
     "output_type": "stream",
     "text": [
      "Enter the number:5\n",
      "the factorial of  0 is 120\n"
     ]
    }
   ],
   "source": [
    "#Factorial number\n",
    "fact=1\n",
    "i=int(input(\"Enter the number:\"))\n",
    "while i>0:\n",
    "    fact=fact*i\n",
    "    i=i-1\n",
    "print(\"the factorial of \",i,\"is\",fact)"
   ]
  },
  {
   "cell_type": "code",
   "execution_count": 49,
   "id": "0cd5a187",
   "metadata": {},
   "outputs": [
    {
     "name": "stdout",
     "output_type": "stream",
     "text": [
      "Enter value7\n",
      "value of k is 7 composite number\n"
     ]
    }
   ],
   "source": [
    "##prime number or composte number\n",
    "k=int(input(\"Enter value\"))\n",
    "if k%2==0:\n",
    "    print(\"value of k is\",k,\"prime number\")\n",
    "else:\n",
    "    print(\"value of k is\",k,\"composite number\")\n"
   ]
  },
  {
   "cell_type": "code",
   "execution_count": 51,
   "id": "8d33884a",
   "metadata": {},
   "outputs": [
    {
     "name": "stdout",
     "output_type": "stream",
     "text": [
      "Enter valuemadam\n",
      "palindrome\n"
     ]
    }
   ],
   "source": [
    "#string is palindrome or not\n",
    "a=input(\"Enter value\")\n",
    "b=a[-1::-1]\n",
    "if(a==b):\n",
    "    print(\"palindrome\")\n",
    "else:\n",
    "    print(\"not palindrome\")"
   ]
  },
  {
   "cell_type": "code",
   "execution_count": 52,
   "id": "285469fa",
   "metadata": {},
   "outputs": [
    {
     "name": "stdout",
     "output_type": "stream",
     "text": [
      "Enter valueRAM\n",
      "not palindrome\n"
     ]
    }
   ],
   "source": [
    "#string is palindrome or not\n",
    "a=input(\"Enter value\")\n",
    "b=a[-1::-1]\n",
    "if(a==b):\n",
    "    print(\"palindrome\")\n",
    "else:\n",
    "    print(\"not palindrome\")"
   ]
  },
  {
   "cell_type": "code",
   "execution_count": 57,
   "id": "b54cb76c",
   "metadata": {},
   "outputs": [
    {
     "name": "stdout",
     "output_type": "stream",
     "text": [
      "Right angle triangle is 75.0\n"
     ]
    }
   ],
   "source": [
    "#Write a Python program to get the third side of right-angled triangle from two given sides.\n",
    "base=10\n",
    "height=15\n",
    "b=(base*height)/2\n",
    "\n",
    "print(\"Right angle triangle is\",b)"
   ]
  },
  {
   "cell_type": "code",
   "execution_count": 1,
   "id": "395d2c65",
   "metadata": {},
   "outputs": [
    {
     "name": "stdout",
     "output_type": "stream",
     "text": [
      "Enter string:vvbvbbvbbdjdjnjsdbj\n",
      "{'v': 4, 'b': 6, 'd': 3, 'j': 4, 'n': 1, 's': 1}\n"
     ]
    }
   ],
   "source": [
    "#Write a python program to print the frequency of each of the characters present in a given string\n",
    "str1=input(\"Enter string:\")\n",
    "d=dict()\n",
    "for i in str1:\n",
    "    if i  in d:\n",
    "             d[i]=d[i]+1\n",
    "    else:\n",
    "        d[i]=1\n",
    "    \n",
    "print(d)\n",
    "    "
   ]
  },
  {
   "cell_type": "code",
   "execution_count": null,
   "id": "c28dde50",
   "metadata": {},
   "outputs": [],
   "source": []
  }
 ],
 "metadata": {
  "kernelspec": {
   "display_name": "Python 3 (ipykernel)",
   "language": "python",
   "name": "python3"
  },
  "language_info": {
   "codemirror_mode": {
    "name": "ipython",
    "version": 3
   },
   "file_extension": ".py",
   "mimetype": "text/x-python",
   "name": "python",
   "nbconvert_exporter": "python",
   "pygments_lexer": "ipython3",
   "version": "3.9.7"
  }
 },
 "nbformat": 4,
 "nbformat_minor": 5
}
